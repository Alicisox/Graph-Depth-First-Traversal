{
 "cells": [
  {
   "cell_type": "code",
   "execution_count": null,
   "metadata": {},
   "outputs": [],
   "source": [
    "# For import"
   ]
  },
  {
   "cell_type": "code",
   "execution_count": 1,
   "metadata": {},
   "outputs": [],
   "source": [
    "def directed_graph(arr,start):\n",
    "    \"\"\"\n",
    "    Direct graph by matrix adjacency input with weight calculation.\n",
    "    \n",
    "    Args:\n",
    "    arr: 2D list, adjacency matrix for directed graph.\n",
    "    start: int, starting search point (index).\n",
    "    \n",
    "    Return:\n",
    "    visited: list, visited node in order.\n",
    "    \n",
    "    \"\"\"\n",
    "    stack = [] # Directed graph stereotype\n",
    "    visited = [] # Mark visited node\n",
    "    min_pos = 0 # Default min position\n",
    "    # Add start node to stack\n",
    "    stack.append(start)\n",
    "    # Then mark as visited node\n",
    "    visited.append(start)\n",
    "    while stack: # While stack is not empty\n",
    "        idx = stack[len(stack)-1]# last element(index) on stack\n",
    "        first = True # To check min position is initialized or not\n",
    "        for idy in range(len(arr)): # Finding lowest cost path\n",
    "            if arr[idx][idy] > 0:\n",
    "                if first: # If lowest position isn't initialize then initializes it  \n",
    "                    min_pos = idy\n",
    "                    first = False # Intialized\n",
    "                elif min_pos not in visited and arr[idx][idy] < arr[idx][min_pos]: # If new val > lowest val pos then  \n",
    "                    min_pos = idy # Replace it with lowest val\n",
    "        # After obtained min position node\n",
    "        if min_pos not in visited: # If first time added, adds it to top of stack and marks it as visited\n",
    "            stack.append(min_pos)\n",
    "            visited.append(min_pos) \n",
    "        else: # If visited, remove item from the top stack \n",
    "            stack.pop()\n",
    "    return visited"
   ]
  },
  {
   "cell_type": "code",
   "execution_count": 2,
   "metadata": {},
   "outputs": [
    {
     "data": {
      "text/plain": [
       "[0, 1, 2, 3]"
      ]
     },
     "execution_count": 2,
     "metadata": {},
     "output_type": "execute_result"
    }
   ],
   "source": [
    "matrix = [[0,1,1,0],\n",
    "        [0,0,3,0],\n",
    "        [0,0,0,4],\n",
    "        [5,0,0,0]]\n",
    "directed_graph(matrix,0)"
   ]
  },
  {
   "cell_type": "code",
   "execution_count": null,
   "metadata": {},
   "outputs": [],
   "source": []
  }
 ],
 "metadata": {
  "kernelspec": {
   "display_name": "Python 3",
   "language": "python",
   "name": "python3"
  },
  "language_info": {
   "codemirror_mode": {
    "name": "ipython",
    "version": 3
   },
   "file_extension": ".py",
   "mimetype": "text/x-python",
   "name": "python",
   "nbconvert_exporter": "python",
   "pygments_lexer": "ipython3",
   "version": "3.8.5"
  }
 },
 "nbformat": 4,
 "nbformat_minor": 4
}
