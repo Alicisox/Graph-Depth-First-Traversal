{
 "cells": [
  {
   "cell_type": "code",
   "execution_count": 11,
   "metadata": {},
   "outputs": [],
   "source": [
    "# For import"
   ]
  },
  {
   "cell_type": "code",
   "execution_count": 18,
   "metadata": {},
   "outputs": [],
   "source": [
    "def DFS(adj_matrix, start):\n",
    "    \"\"\"\n",
    "    Traverse graph by Depth First search (DFS) method with adjacency matrix.\n",
    "    \n",
    "    Args:\n",
    "    adj_matrix: list, adjacency matrix (2D list)\n",
    "    start: int, starting position\n",
    "    \n",
    "    Return:\n",
    "    visited: visited vertices\n",
    "    \n",
    "    \"\"\"\n",
    "    stack = [] # DFS by stack\n",
    "    visited = [] # Visited vertices\n",
    "    # Mark starting point as visited and add it to stack\n",
    "    stack.append(start)\n",
    "    visited.append(start)\n",
    "    while stack: # While stack not empty\n",
    "        idx = stack[len(stack)-1]\n",
    "        discovered = True # Mark as all visited\n",
    "        for idy in range(len(adj_matrix[idx])):\n",
    "            if adj_matrix[idx][idy] == 1 and idy not in visited: # Has path and not ever visited\n",
    "                stack.append(idy)\n",
    "                visited.append(idy)\n",
    "                discovered = False # Not all visited\n",
    "                break\n",
    "        if discovered: # if all vertices discovered, remove last element of stack\n",
    "            stack.pop()\n",
    "    return visited"
   ]
  },
  {
   "cell_type": "code",
   "execution_count": 19,
   "metadata": {},
   "outputs": [
    {
     "data": {
      "text/plain": [
       "[0, 1, 2, 3]"
      ]
     },
     "execution_count": 19,
     "metadata": {},
     "output_type": "execute_result"
    }
   ],
   "source": [
    "# Testing DFS \n",
    "adj_matrix = [[0,1,1,0],\n",
    "            [0,0,1,0],\n",
    "            [0,0,0,1],\n",
    "            [1,0,0,0]]\n",
    "DFS(adj_matrix, 0)"
   ]
  },
  {
   "cell_type": "code",
   "execution_count": null,
   "metadata": {},
   "outputs": [],
   "source": []
  }
 ],
 "metadata": {
  "kernelspec": {
   "display_name": "Python 3",
   "language": "python",
   "name": "python3"
  },
  "language_info": {
   "codemirror_mode": {
    "name": "ipython",
    "version": 3
   },
   "file_extension": ".py",
   "mimetype": "text/x-python",
   "name": "python",
   "nbconvert_exporter": "python",
   "pygments_lexer": "ipython3",
   "version": "3.8.5"
  }
 },
 "nbformat": 4,
 "nbformat_minor": 4
}
